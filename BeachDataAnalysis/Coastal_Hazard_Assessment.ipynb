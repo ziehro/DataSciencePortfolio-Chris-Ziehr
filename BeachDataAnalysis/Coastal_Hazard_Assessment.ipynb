{
 "cells": [
  {
   "cell_type": "markdown",
   "id": "3b6158d6",
   "metadata": {},
   "source": [
    "# Coastal Hazard Assessment Project\n",
    "\n",
    "## Introduction\n",
    "This notebook documents the process of collecting and analyzing coastal environmental data using a custom Android application. The data is aimed at assessing coastal hazards and includes observations of various sea and plant life as well as beach composition.\n",
    "\n",
    "### Background\n",
    "The data was collected using a bespoke Android application designed for this purpose. Users can submit observations of different environmental variables such as types of sea life, beach composition, and other relevant metrics.\n",
    "\n",
    "![Android App Screenshot](INSERT_IMAGE_LINK_HERE)\n",
    "\n",
    "### Data Collection\n",
    "The application allows users to input data while on-site at various beach locations. This data includes geographical coordinates, environmental conditions, and other pertinent observations.\n",
    "\n",
    "## Data Preprocessing\n",
    "The collected data is stored in Google Firestore and periodically exported to CSV format for analysis. This section will discuss the process of transforming raw data from Firestore into a structured format suitable for analysis.\n",
    "\n"
   ]
  },
  {
   "cell_type": "markdown",
   "id": "57a9ff8c",
   "metadata": {},
   "source": [
    "## Feature Engineering\n",
    "\n",
    "In order to facilitate analysis, we will create new metrics based on the collected data:\n",
    "\n",
    "- **Sea Life Metric**: A composite score reflecting the diversity and abundance of sea life at each location.\n",
    "- **Plant Life Metric**: A similar composite score for plant life.\n",
    "- **Beach Composition Index**: An index representing the composition of the beach based on the proportions of sand, pebbles, rocks, and boulders.\n",
    "\n"
   ]
  },
  {
   "cell_type": "code",
   "execution_count": null,
   "id": "09641685",
   "metadata": {},
   "outputs": [],
   "source": [
    "# Load the dataset\n",
    "import pandas as pd\n",
    "\n",
    "df = pd.read_csv('data.csv')  # Update this with the current CSV file\n",
    "df.head()\n"
   ]
  },
  {
   "cell_type": "code",
   "execution_count": null,
   "id": "71457003",
   "metadata": {},
   "outputs": [],
   "source": [
    "# Feature Engineering\n",
    "# Import necessary libraries\n",
    "import pandas as pd\n",
    "\n",
    "# Load the dataset\n",
    "file_path = '/mnt/data/data.csv'\n",
    "data = pd.read_csv(file_path)\n",
    "\n",
    "# Feature Engineering\n",
    "# Sea Life Metric: Average of Anemones, Barnacles, Mussels, Oysters, Snails\n",
    "data['Sea_Life_Metric'] = data[['Anemones', 'Barnacles', 'Mussels', 'Oysters', 'Snails']].mean(axis=1)\n",
    "\n",
    "# Plant Life Metric: Since we have no specific plant data, we can assume it as zero or modify accordingly\n",
    "# Assuming zero for now. If there are specific columns to be used, they can be added here.\n",
    "data['Plant_Life_Metric'] = 0  # Modify this based on available plant data\n",
    "\n",
    "# Composition Index: Average of Sand, Pebbles, Rocks, Stone\n",
    "data['Composition_Index'] = data[['Sand', 'Pebbles', 'Rocks', 'Stone']].mean(axis=1)\n",
    "\n",
    "# Display the first few rows of the updated dataframe\n",
    "data.head()\n"
   ]
  },
  {
   "cell_type": "markdown",
   "id": "961f0fcd",
   "metadata": {},
   "source": [
    "Visual Analysis: Sea Life Distribution\n",
    "\n",
    "The first part of our analysis focuses on the distribution of sea life across different coastal areas. By visualizing this data, we aim to identify patterns and areas of rich biodiversity, which are crucial for maintaining ecological balance and supporting marine life. The scatter plot below, combined with a regression line, illustrates the relationship between different areas and their sea life diversity.\n",
    "\n",
    "Interpretation: [Here, describe what the scatter plot and regression line reveal about sea life distribution and any patterns or outliers you observe.]"
   ]
  },
  {
   "cell_type": "markdown",
   "id": "ebe54c98",
   "metadata": {},
   "source": [
    "import seaborn as sns\n",
    "import matplotlib.pyplot as plt\n",
    "\n",
    "# Scatter plot with regression line\n",
    "sns.lmplot(x='Composition_Index', y='Sea_Life_Metric', data=df, aspect=2, line_kws={'color': 'red'})\n",
    "plt.title('Relationship between Composition Index and Sea Life Metric')\n",
    "plt.xlabel('Composition Index')\n",
    "plt.ylabel('Sea Life Metric')\n",
    "plt.show()\n"
   ]
  },
  {
   "cell_type": "markdown",
   "id": "92e2ce0e",
   "metadata": {},
   "source": [
    "Visual Analysis: Plant Life Distribution\n",
    "\n",
    "Next, we examine the distribution of plant life along the coast. Similar to our analysis of sea life, this visualization helps us identify areas with rich plant biodiversity, which can indicate healthy coastal ecosystems. The scatter plot and regression line below show how plant life varies across different regions.\n",
    "\n",
    "Interpretation: [Here, describe what the scatter plot and regression line reveal about plant life distribution and any notable trends or deviations.]"
   ]
  },
  {
   "cell_type": "markdown",
   "id": "ebaf9c3f",
   "metadata": {},
   "source": [
    "# Scatter plot with regression line\n",
    "sns.lmplot(x='Composition_Index', y='Plant_Life_Metric', data=df, aspect=2, line_kws={'color': 'green'})\n",
    "plt.title('Relationship between Composition Index and Plant Life Metric')\n",
    "plt.xlabel('Composition Index')\n",
    "plt.ylabel('Plant Life Metric')\n",
    "plt.show()\n"
   ]
  },
  {
   "cell_type": "markdown",
   "id": "2f6065a7",
   "metadata": {},
   "source": [
    "Visual Analysis: Composition Index\n",
    "\n",
    "We also developed a Composition Index to quantify the physical makeup of the beach, including the presence of sand, pebbles, rocks, and boulders. This index can help us understand how the beach's physical characteristics might contribute to coastal erosion or habitat stability. The scatter plot below shows the relationship between the Composition Index and various coastal areas.\n",
    "\n",
    "Interpretation: [Here, explain the implications of the Composition Index values, any correlations with other features, and what this means for coastal health.]"
   ]
  },
  {
   "cell_type": "markdown",
   "id": "929e1801",
   "metadata": {},
   "source": [
    "# Scatter plot with regression line\n",
    "sns.lmplot(x='Sea_Life_Metric', y='Plant_Life_Metric', data=df, aspect=2, line_kws={'color': 'blue'})\n",
    "plt.title('Interrelation between Sea Life and Plant Life Metrics')\n",
    "plt.xlabel('Sea Life Metric')\n",
    "plt.ylabel('Plant Life Metric')\n",
    "plt.show()\n"
   ]
  },
  {
   "cell_type": "markdown",
   "id": "ca57230d",
   "metadata": {},
   "source": [
    "Conclusion and Recommendations\n",
    "\n",
    "Based on our visual analyses and feature engineering, we can draw several conclusions about coastal health and hazards. Areas with higher biodiversity in sea life and plant life tend to indicate healthier ecosystems. However, the physical composition of the beaches also plays a critical role in determining their vulnerability to erosion and other hazards.\n",
    "\n",
    "Recommendations: [Here, provide recommendations based on your findings, such as conservation efforts, further studies needed, or policy suggestions.]"
   ]
  }
 ],
 "metadata": {
  "language_info": {
   "name": "python"
  }
 },
 "nbformat": 4,
 "nbformat_minor": 5
}
