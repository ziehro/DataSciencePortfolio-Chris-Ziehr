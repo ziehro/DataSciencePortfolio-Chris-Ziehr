{
 "cells": [
  {
   "cell_type": "markdown",
   "id": "77cf862d",
   "metadata": {},
   "source": [
    "\n",
    "# Interactive Moon Phase and Lottery Win Analysis\n",
    "\n",
    "This notebook presents an interactive visualization showing the relationship between the moon's phase (represented as \"Moon Age Positive\") and lottery win percentages. The aim is to explore any potential correlations between the lunar cycle and lottery outcomes.\n",
    "\n",
    "## Methodology\n",
    "\n",
    "- The dataset includes dates, moon ages, and win percentages for lottery draws.\n",
    "- A continuous line represents the moon's age over time.\n",
    "- Points overlaid on this line represent win percentages for each day, color-coded and sized based on their value.\n"
   ]
  },
  {
   "cell_type": "code",
   "execution_count": 1,
   "id": "a5bd343e-8bb1-4105-9090-e892fcda2646",
   "metadata": {},
   "outputs": [
    {
     "name": "stdout",
     "output_type": "stream",
     "text": [
      "Hello, world!\n"
     ]
    }
   ],
   "source": [
    "print(\"Hello, world!\")\n"
   ]
  },
  {
   "cell_type": "raw",
   "id": "96c62a30-d558-4cce-be1f-601917195a2d",
   "metadata": {},
   "source": [
    "import pandas as pd\n",
    "import numpy as np\n",
    "import matplotlib.pyplot as plt\n",
    "from matplotlib.widgets import Slider\n",
    "import matplotlib.dates as mdates\n",
    "\n",
    "# Load data\n",
    "df = pd.read_csv('raw.csv')  # Replace with your actual data path\n",
    "df['Date'] = pd.to_datetime(df['Date'])\n",
    "\n",
    "# Calculate Win Percentage\n",
    "df['Win Percentage'] = ((df['Money Out'] / df['Money In']) - 1) * 100\n",
    "\n",
    "# Set up the figure and axis\n",
    "fig, ax = plt.subplots(figsize=(15, 6))\n",
    "plt.subplots_adjust(bottom=0.25)\n",
    "\n",
    "# Initial plot setup\n",
    "initial_window = 30  # Days\n",
    "start_date = df['Date'].min()\n",
    "end_date = start_date + pd.Timedelta(days=initial_window)\n",
    "\n",
    "# Filter data for initial plot\n",
    "mask = (df['Date'] >= start_date) & (df['Date'] <= end_date)\n",
    "filtered_df = df.loc[mask]\n",
    "\n",
    "# Plot Moon Age Positive line\n",
    "ax.plot(filtered_df['Date'], filtered_df['Moon Age Positive'], 'b-', label='Moon Age Positive')\n",
    "\n",
    "# Function to update the plot\n",
    "def update(val):\n",
    "    start_date = mdates.num2date(slider.val)\n",
    "    end_date = start_date + pd.Timedelta(days=initial_window)\n",
    "    mask = (df['Date'] >= start_date) & (df['Date'] <= end_date)\n",
    "    filtered_df = df.loc[mask]\n",
    "    ax.clear()\n",
    "    ax.plot(filtered_df['Date'], filtered_df['Moon Age Positive'], 'b-', label='Moon Age Positive')\n",
    "    \n",
    "    # Plot win percentage as color-coded and size-coded markers\n",
    "    for _, row in filtered_df.iterrows():\n",
    "        win_percentage = row['Win Percentage']\n",
    "        if win_percentage > 0:\n",
    "            color = 'green' if win_percentage > 100 else 'red'\n",
    "            size = (win_percentage / 200) * 100  # Adjust size scale as needed\n",
    "            ax.scatter(row['Date'], row['Moon Age Positive'], color=color, s=size)\n",
    "        else:\n",
    "            ax.scatter(row['Date'], row['Moon Age Positive'], color='red', marker='x', s=50)  # Fixed size for zero values\n",
    "    \n",
    "    # Redraw the plot\n",
    "    fig.canvas.draw_idle()\n",
    "\n",
    "# Set up the slider\n",
    "axcolor = 'lightgoldenrodyellow'\n",
    "axpos = plt.axes([0.125, 0.1, 0.775, 0.03], facecolor=axcolor)\n",
    "slider = Slider(ax=axpos, label='Start Date', valmin=mdates.date2num(df['Date'].min()), valmax=mdates.date2num(df['Date'].max() - pd.Timedelta(days=initial_window)), valinit=mdates.date2num(start_date), valfmt='%Y-%m-%d')\n",
    "slider.on_changed(update)\n",
    "\n",
    "# Set date format on x-axis\n",
    "ax.xaxis.set_major_formatter(mdates.DateFormatter('%Y-%m-%d'))\n",
    "plt.xticks(rotation=45)\n",
    "\n",
    "# Show plot\n",
    "plt.show()\n"
   ]
  },
  {
   "cell_type": "code",
   "execution_count": null,
   "id": "db804388-d522-4358-92ad-20425056d990",
   "metadata": {},
   "outputs": [],
   "source": []
  }
 ],
 "metadata": {
  "kernelspec": {
   "display_name": "Python 3 (ipykernel)",
   "language": "python",
   "name": "python3"
  },
  "language_info": {
   "codemirror_mode": {
    "name": "ipython",
    "version": 3
   },
   "file_extension": ".py",
   "mimetype": "text/x-python",
   "name": "python",
   "nbconvert_exporter": "python",
   "pygments_lexer": "ipython3",
   "version": "3.12.2"
  }
 },
 "nbformat": 4,
 "nbformat_minor": 5
}
